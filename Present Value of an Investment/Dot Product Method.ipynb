{
 "cells": [
  {
   "cell_type": "code",
   "execution_count": 1,
   "metadata": {},
   "outputs": [
    {
     "name": "stdout",
     "output_type": "stream",
     "text": [
      "The result is 7185271.349713667\n",
      "For the Dot Product Method , 1000 evaluations take 0.03274785199937469 s\n",
      "---------------------------------\n"
     ]
    }
   ],
   "source": [
    "#Importing modules from Pylab Library\n",
    "from pylab import *\n",
    "import timeit\n",
    "\n",
    "## Given Values\n",
    "C = 120.0 * arange(500,1200)\n",
    "r = 0.01\n",
    "x = 1/(1+r)\n",
    "\n",
    "\n",
    "##### The dot product of vectors\n",
    "def dotprdt(Cash,xx):\n",
    "    i = arange(1,len(Cash)+1)\n",
    "    final_x = xx**i\n",
    "    ## Vectorized  X**i\n",
    "    dot_prdt = dot(Cash,final_x)\n",
    "    return dot_prdt\n",
    "print(\"The result is\",dotprdt(C,x))\n",
    "t2 = timeit.Timer('dotprdt(C,x)','from __main__ import dotprdt,C,x')\n",
    "print(\"For the Dot Product Method , 1000 evaluations take\",t2.timeit(number=1000),\"s\")\n",
    "print(\"---------------------------------\")\n",
    "\n"
   ]
  },
  {
   "cell_type": "code",
   "execution_count": null,
   "metadata": {},
   "outputs": [],
   "source": []
  },
  {
   "cell_type": "code",
   "execution_count": null,
   "metadata": {},
   "outputs": [],
   "source": []
  }
 ],
 "metadata": {
  "kernelspec": {
   "display_name": "Python 3",
   "language": "python",
   "name": "python3"
  },
  "language_info": {
   "codemirror_mode": {
    "name": "ipython",
    "version": 3
   },
   "file_extension": ".py",
   "mimetype": "text/x-python",
   "name": "python",
   "nbconvert_exporter": "python",
   "pygments_lexer": "ipython3",
   "version": "3.8.3"
  }
 },
 "nbformat": 4,
 "nbformat_minor": 4
}
