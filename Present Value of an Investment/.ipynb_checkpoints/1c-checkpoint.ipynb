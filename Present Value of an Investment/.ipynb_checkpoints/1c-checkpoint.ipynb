{
 "cells": [
  {
   "cell_type": "code",
   "execution_count": 1,
   "metadata": {},
   "outputs": [
    {
     "name": "stdout",
     "output_type": "stream",
     "text": [
      "The result is 7185271.3497136645\n",
      "For PolyVal Function, 1000 evaluations take 0.41152226499980316 s\n",
      "---------------------------------\n"
     ]
    }
   ],
   "source": [
    "#Importing modules from Pylab Library\n",
    "from pylab import *\n",
    "import timeit\n",
    "\n",
    "## Given Values\n",
    "C = 120.0 * arange(500,1200)\n",
    "r = 0.01\n",
    "x = 1/(1+r)\n",
    "\n",
    "\n",
    "\n",
    "\n",
    "##### The polyval function\n",
    "def polyvall(Cash,xx):\n",
    "    desired_len = len(Cash) + 1\n",
    "    rev_c = Cash[::-1]\n",
    "    #Reverse C-Array\n",
    "    new_c = append(rev_c,[0])\n",
    "    # Append 0 to the Reversed array to account for our formula since summation\n",
    "    # Starts from 1 and not 0\n",
    "    return polyval(new_c,xx)\n",
    "\n",
    "print(\"The result is\",polyvall(C,x))\n",
    "t2 = timeit.Timer('polyvall(C,x)','from __main__ import polyvall,C,x')\n",
    "print(\"For PolyVal Function, 1000 evaluations take\",t2.timeit(number=1000),\"s\")\n",
    "print(\"---------------------------------\")\n",
    "\n"
   ]
  },
  {
   "cell_type": "code",
   "execution_count": null,
   "metadata": {},
   "outputs": [],
   "source": []
  }
 ],
 "metadata": {
  "kernelspec": {
   "display_name": "Python 3",
   "language": "python",
   "name": "python3"
  },
  "language_info": {
   "codemirror_mode": {
    "name": "ipython",
    "version": 3
   },
   "file_extension": ".py",
   "mimetype": "text/x-python",
   "name": "python",
   "nbconvert_exporter": "python",
   "pygments_lexer": "ipython3",
   "version": "3.8.3"
  }
 },
 "nbformat": 4,
 "nbformat_minor": 4
}
