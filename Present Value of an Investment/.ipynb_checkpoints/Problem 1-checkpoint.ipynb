{
 "cells": [
  {
   "cell_type": "markdown",
   "metadata": {},
   "source": [
    "# Problem 1"
   ]
  },
  {
   "cell_type": "code",
   "execution_count": 1,
   "metadata": {},
   "outputs": [
    {
     "name": "stdout",
     "output_type": "stream",
     "text": [
      "Method 1 result is 7185271.349713664\n",
      "For Method 1, 1000 evaluations take 0.3013255939999997 s\n",
      "---------------------------------\n",
      "Method 2 result is 7185271.3497136645\n",
      "For Method 2, 1000 evaluations take 0.2493835880000006 s\n",
      "---------------------------------\n",
      "Method 3 result is 7185271.3497136645\n",
      "For Method 3, 1000 evaluations take 0.31120494600000015 s\n",
      "---------------------------------\n",
      "Method 4 result is 7185271.349713667\n",
      "For Method 4, 1000 evaluations take 0.017856569999999294 s\n",
      "---------------------------------\n"
     ]
    }
   ],
   "source": [
    "#Importing modules from Pylab Library\n",
    "from pylab import *\n",
    "import timeit\n",
    "\n",
    "## Given Values\n",
    "C = 120.0 * arange(500,1200)\n",
    "r = 0.01\n",
    "x = 1/(1+r)\n",
    "\n",
    "### Answers\n",
    "\n",
    "###### An explicit Python loop summing up each summand\n",
    "\n",
    "\n",
    "def explicit_loop(Cash,xx):\n",
    "    summ = 0\n",
    "    for i in range(1,len(Cash)):\n",
    "        summ += Cash[i-1] * (xx**i)\n",
    "    summ += Cash[-1] * (xx**(len(Cash)))\n",
    "    return summ\n",
    "\n",
    "print(\"Method 1 result is\",explicit_loop(C,x))\n",
    "t = timeit.Timer('explicit_loop(C,x)','from __main__ import explicit_loop,C,x')\n",
    "print(\"For Method 1, 1000 evaluations take\",t.timeit(number=1000),\"s\")\n",
    "print(\"---------------------------------\")\n",
    "\n",
    "\n",
    "\n",
    "###### An explicit Python loop using Horner’s scheme\n",
    "\n",
    "def horner_scheme(Cash,xx):\n",
    "    result = Cash[-1]\n",
    "\n",
    "    for i in range(len(Cash)-2,-1,-1):\n",
    "        result = result*xx + Cash[i]\n",
    "    final_result = result * xx\n",
    "\n",
    "    return final_result\n",
    "\n",
    "print(\"Method 2 result is\",horner_scheme(C,x))\n",
    "t2 = timeit.Timer('horner_scheme(C,x)','from __main__ import horner_scheme,C,x')\n",
    "print(\"For Method 2, 1000 evaluations take\",t2.timeit(number=1000),\"s\")\n",
    "print(\"---------------------------------\")\n",
    "\n",
    "\n",
    "\n",
    "##### The polyval function\n",
    "def polyvall(Cash,xx):\n",
    "    desired_len = len(Cash) + 1\n",
    "    rev_c = Cash[::-1]\n",
    "    #Reverse C-Array\n",
    "    new_c = append(rev_c,[0])\n",
    "    # Append 0 to the Reversed array to account for our formula since summation\n",
    "    # Starts from 1 and not 0\n",
    "    return polyval(new_c,xx)\n",
    "\n",
    "print(\"Method 3 result is\",polyvall(C,x))\n",
    "t2 = timeit.Timer('polyvall(C,x)','from __main__ import polyvall,C,x')\n",
    "print(\"For Method 3, 1000 evaluations take\",t2.timeit(number=1000),\"s\")\n",
    "print(\"---------------------------------\")\n",
    "\n",
    "\n",
    "\n",
    "##### The dot product of vectors\n",
    "def dotprdt(Cash,xx):\n",
    "    i = arange(1,len(Cash)+1)\n",
    "    final_x = xx**i\n",
    "    ## Vectorized  X**i\n",
    "    dot_prdt = dot(Cash,final_x)\n",
    "    return dot_prdt\n",
    "print(\"Method 4 result is\",dotprdt(C,x))\n",
    "t2 = timeit.Timer('dotprdt(C,x)','from __main__ import dotprdt,C,x')\n",
    "print(\"For Method 4, 1000 evaluations take\",t2.timeit(number=1000),\"s\")\n",
    "print(\"---------------------------------\")\n",
    "\n",
    "\n",
    "    "
   ]
  },
  {
   "cell_type": "code",
   "execution_count": null,
   "metadata": {},
   "outputs": [],
   "source": []
  },
  {
   "cell_type": "code",
   "execution_count": null,
   "metadata": {},
   "outputs": [],
   "source": []
  }
 ],
 "metadata": {
  "kernelspec": {
   "display_name": "Python 3",
   "language": "python",
   "name": "python3"
  },
  "language_info": {
   "codemirror_mode": {
    "name": "ipython",
    "version": 3
   },
   "file_extension": ".py",
   "mimetype": "text/x-python",
   "name": "python",
   "nbconvert_exporter": "python",
   "pygments_lexer": "ipython3",
   "version": "3.8.3"
  }
 },
 "nbformat": 4,
 "nbformat_minor": 4
}
