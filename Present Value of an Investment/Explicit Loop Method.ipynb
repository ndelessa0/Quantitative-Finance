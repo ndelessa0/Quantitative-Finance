{
 "cells": [
  {
   "cell_type": "code",
   "execution_count": 1,
   "metadata": {},
   "outputs": [
    {
     "name": "stdout",
     "output_type": "stream",
     "text": [
      "Method 1 result is 7185271.349713664\n",
      "For Method 1, 1000 evaluations take 0.4458115409997845 s\n",
      "---------------------------------\n"
     ]
    }
   ],
   "source": [
    "#Importing modules from Pylab Library\n",
    "from pylab import *\n",
    "import timeit\n",
    "\n",
    "## Given Values\n",
    "C = 120.0 * arange(500,1200)\n",
    "r = 0.01\n",
    "x = 1/(1+r)\n",
    "\n",
    "### Answers\n",
    "\n",
    "###### An explicit Python loop summing up each summand\n",
    "\n",
    "\n",
    "def explicit_loop(Cash,xx):\n",
    "    summ = 0\n",
    "    for i in range(1,len(Cash)):\n",
    "        summ += Cash[i-1] * (xx**i)\n",
    "    summ += Cash[-1] * (xx**(len(Cash)))\n",
    "    return summ\n",
    "\n",
    "print(\"The result is\",explicit_loop(C,x))\n",
    "t = timeit.Timer('explicit_loop(C,x)','from __main__ import explicit_loop,C,x')\n",
    "print(\"For Explicit Python Loop, 1000 evaluations take\",t.timeit(number=1000),\"s\")\n",
    "print(\"---------------------------------\")\n"
   ]
  },
  {
   "cell_type": "code",
   "execution_count": null,
   "metadata": {},
   "outputs": [],
   "source": []
  },
  {
   "cell_type": "code",
   "execution_count": null,
   "metadata": {},
   "outputs": [],
   "source": []
  },
  {
   "cell_type": "code",
   "execution_count": null,
   "metadata": {},
   "outputs": [],
   "source": []
  },
  {
   "cell_type": "code",
   "execution_count": null,
   "metadata": {},
   "outputs": [],
   "source": []
  }
 ],
 "metadata": {
  "kernelspec": {
   "display_name": "Python 3",
   "language": "python",
   "name": "python3"
  },
  "language_info": {
   "codemirror_mode": {
    "name": "ipython",
    "version": 3
   },
   "file_extension": ".py",
   "mimetype": "text/x-python",
   "name": "python",
   "nbconvert_exporter": "python",
   "pygments_lexer": "ipython3",
   "version": "3.8.3"
  }
 },
 "nbformat": 4,
 "nbformat_minor": 4
}
