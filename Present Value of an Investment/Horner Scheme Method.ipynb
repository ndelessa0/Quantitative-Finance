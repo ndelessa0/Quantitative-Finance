{
 "cells": [
  {
   "cell_type": "code",
   "execution_count": 2,
   "metadata": {},
   "outputs": [
    {
     "name": "stdout",
     "output_type": "stream",
     "text": [
      "The result is 7185271.3497136645\n",
      "For Horner Scheme, 1000 evaluations take 0.35907791999852634 s\n",
      "---------------------------------\n"
     ]
    }
   ],
   "source": [
    "#Importing modules from Pylab Library\n",
    "from pylab import *\n",
    "import timeit\n",
    "\n",
    "## Given Values\n",
    "C = 120.0 * arange(500,1200)\n",
    "r = 0.01\n",
    "x = 1/(1+r)\n",
    "\n",
    "\n",
    "###### An explicit Python loop using Horner’s scheme\n",
    "\n",
    "def horner_scheme(Cash,xx):\n",
    "    result = Cash[-1]\n",
    "\n",
    "    for i in range(len(Cash)-2,-1,-1):\n",
    "        result = result*xx + Cash[i]\n",
    "    final_result = result * xx\n",
    "\n",
    "    return final_result\n",
    "\n",
    "print(\"The result is\",horner_scheme(C,x))\n",
    "t2 = timeit.Timer('horner_scheme(C,x)','from __main__ import horner_scheme,C,x')\n",
    "print(\"For Horner Scheme, 1000 evaluations take\",t2.timeit(number=1000),\"s\")\n",
    "print(\"---------------------------------\")\n",
    "\n"
   ]
  },
  {
   "cell_type": "code",
   "execution_count": null,
   "metadata": {},
   "outputs": [],
   "source": []
  },
  {
   "cell_type": "code",
   "execution_count": null,
   "metadata": {},
   "outputs": [],
   "source": []
  }
 ],
 "metadata": {
  "kernelspec": {
   "display_name": "Python 3",
   "language": "python",
   "name": "python3"
  },
  "language_info": {
   "codemirror_mode": {
    "name": "ipython",
    "version": 3
   },
   "file_extension": ".py",
   "mimetype": "text/x-python",
   "name": "python",
   "nbconvert_exporter": "python",
   "pygments_lexer": "ipython3",
   "version": "3.8.3"
  }
 },
 "nbformat": 4,
 "nbformat_minor": 4
}
