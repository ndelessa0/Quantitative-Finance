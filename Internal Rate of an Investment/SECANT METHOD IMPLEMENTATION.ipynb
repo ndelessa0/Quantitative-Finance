{
 "cells": [
  {
   "cell_type": "code",
   "execution_count": 1,
   "metadata": {},
   "outputs": [
    {
     "name": "stdout",
     "output_type": "stream",
     "text": [
      "\n",
      "\n",
      "*** SECANT METHOD IMPLEMENTATION ***\n",
      "\n",
      " Required root is: 0.13797959\n"
     ]
    }
   ],
   "source": [
    "from pylab import *\n",
    "import math\n",
    "\n",
    "\n",
    "n = 300\n",
    "cf = 120.0 * arange(10,n+10)\n",
    "p = 15000.0             \n",
    "\n",
    "i= array(arange(1, n+1))\n",
    "\n",
    "def f(r):\n",
    "    xp = 1/(1+r)\n",
    "    return (dot(cf, xp**i)-p)\n",
    "\n",
    "print('\\n\\n*** SECANT METHOD IMPLEMENTATION ***')\n",
    "\n",
    "\n",
    "def secant(x0,x1,e,N):\n",
    "   \n",
    "    step = 1\n",
    "    condition = True\n",
    "    while condition:\n",
    "        if f(x0) == f(x1):\n",
    "            print('Divide by zero error!')\n",
    "            break\n",
    "        \n",
    "        x2 = x0 - (x1-x0)*f(x0)/( f(x1) - f(x0) ) \n",
    "        \n",
    "        x0 = x1\n",
    "        x1 = x2\n",
    "        step = step + 1\n",
    "        \n",
    "        if step > N:\n",
    "            print('Not Convergent!')\n",
    "            break\n",
    "        \n",
    "        condition = abs(f(x2)) > e\n",
    "    print('\\n Required root is: %0.8f' % x2)\n",
    "    \n",
    "# guesses of values\n",
    "x0 = 0\n",
    "x1 = 0.2\n",
    "e = 0.00001 #value of epsilon\n",
    "N = 50 #number of iterations\n",
    "\n",
    "\n",
    "secant(x0,x1,e,N)\n",
    "\n"
   ]
  },
  {
   "cell_type": "code",
   "execution_count": null,
   "metadata": {},
   "outputs": [],
   "source": []
  }
 ],
 "metadata": {
  "kernelspec": {
   "display_name": "Python 3",
   "language": "python",
   "name": "python3"
  },
  "language_info": {
   "codemirror_mode": {
    "name": "ipython",
    "version": 3
   },
   "file_extension": ".py",
   "mimetype": "text/x-python",
   "name": "python",
   "nbconvert_exporter": "python",
   "pygments_lexer": "ipython3",
   "version": "3.8.3"
  }
 },
 "nbformat": 4,
 "nbformat_minor": 4
}
