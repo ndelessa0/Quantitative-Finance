{
 "cells": [
  {
   "cell_type": "code",
   "execution_count": 3,
   "metadata": {},
   "outputs": [
    {
     "name": "stdout",
     "output_type": "stream",
     "text": [
      "\n",
      "\n",
      "*** BISECTION METHOD IMPLEMENTATION ***\n",
      "1000 evaluation take 1.389299904985819e-05 s\n"
     ]
    }
   ],
   "source": [
    "from pylab import *\n",
    "\n",
    "n = 300\n",
    "cf = 120.0 * arange(10,n+10)\n",
    "p = 15000.0             \n",
    "\n",
    "i= array(arange(1, n+1))\n",
    "\n",
    "def cfunction(r):\n",
    "    x = 1/(1+r)\n",
    "    return (dot(cf, x**i)-p)\n",
    "\n",
    "print('\\n\\n*** BISECTION METHOD IMPLEMENTATION ***') \n",
    "\n",
    "def bisection(a,b): \n",
    "\n",
    "    if (cfunction(a) * cfunction(b) >= 0): \n",
    "        print(\"You have not assumed right a and b\\n\") \n",
    "        return\n",
    "\n",
    "    c = a \n",
    "    while ((b-a) >= 0.01): \n",
    "\n",
    "        # Find middle point \n",
    "        c = (a+b)/2\n",
    "\n",
    "        # Check if middle point is root \n",
    "        if (cfunction(c) == 0.0): \n",
    "            break\n",
    "\n",
    "        # Decide the side to repeat the steps \n",
    "        if (cfunction(c)*cfunction(a) < 0): \n",
    "            b = c \n",
    "        else: \n",
    "            a = c \n",
    "\n",
    "\n",
    "a= 0\n",
    "b= 1.0\n",
    "bisection(a,b)\n",
    "\n",
    "import timeit\n",
    "t=timeit.Timer('f', 'from __main__ import f')\n",
    "print(\"1000 evaluation take\", t.timeit(number=1000), \"s\")"
   ]
  },
  {
   "cell_type": "code",
   "execution_count": null,
   "metadata": {},
   "outputs": [],
   "source": []
  }
 ],
 "metadata": {
  "kernelspec": {
   "display_name": "Python 3",
   "language": "python",
   "name": "python3"
  },
  "language_info": {
   "codemirror_mode": {
    "name": "ipython",
    "version": 3
   },
   "file_extension": ".py",
   "mimetype": "text/x-python",
   "name": "python",
   "nbconvert_exporter": "python",
   "pygments_lexer": "ipython3",
   "version": "3.8.3"
  }
 },
 "nbformat": 4,
 "nbformat_minor": 4
}
