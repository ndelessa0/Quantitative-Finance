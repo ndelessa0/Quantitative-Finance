{
 "cells": [
  {
   "cell_type": "code",
   "execution_count": 2,
   "metadata": {},
   "outputs": [
    {
     "name": "stdout",
     "output_type": "stream",
     "text": [
      "\n",
      "\n",
      "*** BRENT METHOD IMPLEMENTATION ***\n",
      "root is equal to 0.1380\n",
      "1000 evaluation take 2.816300002450589e-05 s\n"
     ]
    }
   ],
   "source": [
    "from pylab import *\n",
    "from scipy import optimize\n",
    "\n",
    "import timeit\n",
    "\n",
    "n = 300\n",
    "cf = 120.0 * arange(10,n+10)\n",
    "p = 15000.0                 \n",
    "\n",
    "i= array(arange(1, n+1))\n",
    "\n",
    "print('\\n\\n*** BRENT METHOD IMPLEMENTATION ***')\n",
    "def f():\n",
    "    def cfunction(r):\n",
    "        x = 1/(1+r)\n",
    "        return (dot(cf, x**i)-p)\n",
    "def cfunction(r):\n",
    "    x = 1/(1+r)\n",
    "    return (dot(cf, x**i)-p)\n",
    "\n",
    "root = optimize.brentq(cfunction, 0,1)\n",
    "print(\"root is equal to\", '{:.4f}'.format(root))\n",
    "\n",
    "\n",
    "t=timeit.Timer('f', 'from __main__ import f')\n",
    "print(\"1000 evaluation take\", t.timeit(number=1000), \"s\")"
   ]
  },
  {
   "cell_type": "code",
   "execution_count": null,
   "metadata": {},
   "outputs": [],
   "source": []
  }
 ],
 "metadata": {
  "kernelspec": {
   "display_name": "Python 3",
   "language": "python",
   "name": "python3"
  },
  "language_info": {
   "codemirror_mode": {
    "name": "ipython",
    "version": 3
   },
   "file_extension": ".py",
   "mimetype": "text/x-python",
   "name": "python",
   "nbconvert_exporter": "python",
   "pygments_lexer": "ipython3",
   "version": "3.8.3"
  }
 },
 "nbformat": 4,
 "nbformat_minor": 4
}
