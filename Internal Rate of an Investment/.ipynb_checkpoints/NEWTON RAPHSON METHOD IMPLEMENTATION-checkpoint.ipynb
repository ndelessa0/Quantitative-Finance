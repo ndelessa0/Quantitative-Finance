{
 "cells": [
  {
   "cell_type": "code",
   "execution_count": null,
   "metadata": {},
   "outputs": [],
   "source": [
    "from pylab import *\n",
    "from scipy.misc import derivative\n",
    "\n",
    "\n",
    "n = 300\n",
    "cf = 120.0 * arange(10,n+10)\n",
    "p = 15000.0             \n",
    "\n",
    "i= array(arange(1, n+1))\n",
    "x_n= 0.15\n",
    "#declare starting point\n",
    "\n",
    "r= np.linspace(0,1,100)\n",
    "\n",
    "def cfunction(r):\n",
    "    x = 1/(1+r)\n",
    "    return (dot(cf, x**i)-p)\n",
    "\n",
    "print('\\n\\n*** NEWTON RAPHSON METHOD IMPLEMENTATION ***')\n",
    "def next_val_x(cfunction, r, x_n):\n",
    "    \n",
    "    slope= derivative(cfunction, x_n, dx=0.1)\n",
    "    return x_n - (cfunction(x_n)/slope)\n",
    "\n",
    "for n in range(50):\n",
    "    x_n= next_val_x(cfunction, r, x_n)\n",
    "\n",
    "print('The root at the', n+1,'th iteration  is equal to: ''xp_{} = {:.3f}'. format(n+1, x_n))\n",
    "\n",
    "import timeit\n",
    "t=timeit.Timer('next_val_x(cfunction, r, x_n)', 'from __main__ import next_val_x, cfunction, r, x_n')\n",
    "print(\"1000 evaluation take\", t.timeit(number=1000), \"s\")"
   ]
  }
 ],
 "metadata": {
  "kernelspec": {
   "display_name": "Python 3",
   "language": "python",
   "name": "python3"
  },
  "language_info": {
   "codemirror_mode": {
    "name": "ipython",
    "version": 3
   },
   "file_extension": ".py",
   "mimetype": "text/x-python",
   "name": "python",
   "nbconvert_exporter": "python",
   "pygments_lexer": "ipython3",
   "version": "3.8.3"
  }
 },
 "nbformat": 4,
 "nbformat_minor": 4
}
